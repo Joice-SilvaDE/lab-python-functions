{
 "cells": [
  {
   "cell_type": "markdown",
   "id": "25d7736c-ba17-4aff-b6bb-66eba20fbf4e",
   "metadata": {},
   "source": [
    "# Lab | Functions"
   ]
  },
  {
   "cell_type": "markdown",
   "id": "0c581062-8967-4d93-b06e-62833222f930",
   "metadata": {
    "tags": []
   },
   "source": [
    "## Exercise: Managing Customer Orders with Functions\n",
    "\n",
    "In the previous exercise, you improved the code for managing customer orders by using loops and flow control. Now, let's take it a step further and refactor the code by introducing functions.\n",
    "\n",
    "Follow the steps below to complete the exercise:\n",
    "\n",
    "1. Define a function named `initialize_inventory` that takes `products` as a parameter. Inside the function, implement the code for initializing the inventory dictionary using a loop and user input.\n",
    "\n",
    "2. Define a function named `get_customer_orders` that takes no parameters. Inside the function, implement the code for prompting the user to enter the product names using a loop. The function should return the `customer_orders` set.\n",
    "\n",
    "3. Define a function named `update_inventory` that takes `customer_orders` and `inventory` as parameters. Inside the function, implement the code for updating the inventory dictionary based on the customer orders.\n",
    "\n",
    "4. Define a function named `calculate_order_statistics` that takes `customer_orders` and `products` as parameters. Inside the function, implement the code for calculating the order statistics (total products ordered, and percentage of unique products ordered). The function should return these values.\n",
    "\n",
    "5. Define a function named `print_order_statistics` that takes `order_statistics` as a parameter. Inside the function, implement the code for printing the order statistics.\n",
    "\n",
    "6. Define a function named `print_updated_inventory` that takes `inventory` as a parameter. Inside the function, implement the code for printing the updated inventory.\n",
    "\n",
    "7. Call the functions in the appropriate sequence to execute the program and manage customer orders.\n",
    "\n",
    "Hints for functions:\n",
    "\n",
    "- Consider the input parameters required for each function and their return values.\n",
    "- Utilize function parameters and return values to transfer data between functions.\n",
    "- Test your functions individually to ensure they work correctly.\n",
    "\n",
    "\n"
   ]
  },
  {
   "cell_type": "markdown",
   "id": "fa2a1d91-e746-4ec9-9742-cfcc5e4909b6",
   "metadata": {},
   "source": [
    "1 Define a function named initialize_inventory that takes products as a parameter. Inside the function, implement the code for initializing the inventory dictionary using a loop and user input."
   ]
  },
  {
   "cell_type": "code",
   "execution_count": 32,
   "id": "eabce995-7a27-406f-97b2-d11f11990d3e",
   "metadata": {},
   "outputs": [],
   "source": [
    "products = [\"t-shirt\", \"mug\", \"hat\", \"book\", \"keychain\"]\n",
    "inventory = {} #empty dict"
   ]
  },
  {
   "cell_type": "code",
   "execution_count": 36,
   "id": "f9d9f6cb-75fd-49b9-af3c-623edb294e3f",
   "metadata": {},
   "outputs": [
    {
     "name": "stdin",
     "output_type": "stream",
     "text": [
      "Enter quantity t-shirt: 1\n",
      "Enter quantity mug: 1\n",
      "Enter quantity hat: 1\n",
      "Enter quantity book: 1\n",
      "Enter quantity keychain: 1\n"
     ]
    },
    {
     "name": "stdout",
     "output_type": "stream",
     "text": [
      "inventory: {'t-shirt': '1', 'mug': '1', 'hat': '1', 'book': '1', 'keychain': '1'}\n"
     ]
    }
   ],
   "source": [
    "for product in products: # adding inventory to dict\n",
    "    quantity = input(f\"Enter quantity {product}:\")\n",
    "    inventory[product] = quantity\n",
    "\n",
    "print(\"inventory:\", inventory)"
   ]
  },
  {
   "cell_type": "code",
   "execution_count": 37,
   "id": "d00ded47-090d-4cc2-ba2a-919014132c12",
   "metadata": {},
   "outputs": [],
   "source": [
    "def initialize_inventory(products): #define function, parameters - products\n",
    "    inventory=initialize_inventory(products)"
   ]
  },
  {
   "cell_type": "code",
   "execution_count": 38,
   "id": "6da34869-4b04-43d3-b804-057a3ff7b98f",
   "metadata": {},
   "outputs": [
    {
     "name": "stdout",
     "output_type": "stream",
     "text": [
      "{'t-shirt': '1', 'mug': '1', 'hat': '1', 'book': '1', 'keychain': '1'}\n"
     ]
    }
   ],
   "source": [
    "print(inventory)"
   ]
  },
  {
   "cell_type": "markdown",
   "id": "f22a7cee-d2a4-4f02-ac1d-2be21f42e6e8",
   "metadata": {},
   "source": [
    "2 Define a function named get_customer_orders that takes no parameters. Inside the function, implement the code for prompting the user to enter the product names using a loop. The function should return the customer_orders set."
   ]
  },
  {
   "cell_type": "code",
   "execution_count": 67,
   "id": "3a8f35e9-f11d-4f94-ad59-84d893a4ad07",
   "metadata": {},
   "outputs": [
    {
     "name": "stdin",
     "output_type": "stream",
     "text": [
      "\n",
      "Enter the name of a product to order:  hat\n",
      "\n",
      "Do you want to add another product? (yes/no):  yes\n",
      "\n",
      "Enter the name of a product to order:  mug\n",
      "\n",
      "Do you want to add another product? (yes/no):  no\n"
     ]
    }
   ],
   "source": [
    "customer_orders = set()\n",
    "while True :\n",
    "    order = str(input(\"\\nEnter the name of a product to order: \"))\n",
    "    if order in products:\n",
    "        customer_orders.add(order)\n",
    "    else:\n",
    "        print(f\"\\n{order} is not in the product list. Please choose from the available products.\")\n",
    "    another = input(\"\\nDo you want to add another product? (yes/no): \")\n",
    "    if another != 'yes':\n",
    "        break"
   ]
  },
  {
   "cell_type": "code",
   "execution_count": 68,
   "id": "3ba517ed-dde0-4519-9ad7-fc152048e7ed",
   "metadata": {},
   "outputs": [
    {
     "name": "stdout",
     "output_type": "stream",
     "text": [
      "Customer Orders: {'mug', 'hat'}\n"
     ]
    }
   ],
   "source": [
    "print(\"Customer Orders:\", customer_orders)"
   ]
  },
  {
   "cell_type": "markdown",
   "id": "cd7e1980-f98d-4bde-96e1-f4166bb96ee5",
   "metadata": {},
   "source": [
    "3 Define a function named update_inventory that takes customer_orders and inventory as parameters. Inside the function, implement the code for updating the inventory dictionary based on the customer orders."
   ]
  },
  {
   "cell_type": "code",
   "execution_count": 71,
   "id": "762325d7-ec55-409e-acd8-f3fdbf8bad99",
   "metadata": {},
   "outputs": [],
   "source": [
    "def update_inventory(customer_orders, inventory):\n",
    "    for product in customer_orders:  # Loop for each product in the customer orders set\n",
    "        if inventory[product] > 0:  # check with there is stock\n",
    "                inventory[product] -= 1  # updating the stock\n",
    "        else:\n",
    "            print(f\"{product} is not in the inventory.\")  # Notify if product is invalid\n",
    "\n",
    "    return inventory  # Return the updated inventory"
   ]
  },
  {
   "cell_type": "code",
   "execution_count": null,
   "id": "55d79271-aa48-45b3-97d9-17d26fec2504",
   "metadata": {},
   "outputs": [],
   "source": []
  },
  {
   "cell_type": "code",
   "execution_count": null,
   "id": "89263f1a-ac59-4d53-b9a6-d512ab0ab6b2",
   "metadata": {},
   "outputs": [],
   "source": []
  },
  {
   "cell_type": "markdown",
   "id": "7b0e4e70-ed3a-4268-b650-999550a7729f",
   "metadata": {},
   "source": [
    "4 Define a function named calculate_order_statistics that takes customer_orders and products as parameters. Inside the function, implement the code for calculating the order statistics (total products ordered, and percentage of unique products ordered). The function should return these values.\n",
    "\n",
    "5 Define a function named print_order_statistics that takes order_statistics as a parameter. Inside the function, implement the code for printing the order statistics.\n",
    "\n",
    "6 Define a function named print_updated_inventory that takes inventory as a parameter. Inside the function, implement the code for printing the updated inventory.\n",
    "\n",
    "7 Call the functions in the appropriate sequence to execute the program and manage customer orders."
   ]
  },
  {
   "cell_type": "code",
   "execution_count": null,
   "id": "11586f9e-65ba-43a5-8723-816f12476128",
   "metadata": {},
   "outputs": [],
   "source": []
  },
  {
   "cell_type": "code",
   "execution_count": null,
   "id": "71175834-a961-41b6-ac58-6c8507db39ed",
   "metadata": {},
   "outputs": [],
   "source": []
  },
  {
   "cell_type": "code",
   "execution_count": null,
   "id": "55cc50bd-9d41-400b-819a-c96283796777",
   "metadata": {},
   "outputs": [],
   "source": []
  },
  {
   "cell_type": "code",
   "execution_count": null,
   "id": "79a8abe6-0013-45f8-ad57-41e02e144185",
   "metadata": {},
   "outputs": [],
   "source": []
  },
  {
   "cell_type": "code",
   "execution_count": null,
   "id": "be5ac3d1-f1ff-4e1a-bb9f-f773e9512d99",
   "metadata": {},
   "outputs": [],
   "source": []
  },
  {
   "cell_type": "code",
   "execution_count": null,
   "id": "3047529a-3dc6-4eb9-8a92-154cde1ad0cb",
   "metadata": {},
   "outputs": [],
   "source": []
  },
  {
   "cell_type": "code",
   "execution_count": null,
   "id": "0a66950c-581f-402f-96b9-b91987648dce",
   "metadata": {},
   "outputs": [],
   "source": []
  },
  {
   "cell_type": "code",
   "execution_count": null,
   "id": "168c4c06-975a-4c99-9ae1-dd39edc1c791",
   "metadata": {},
   "outputs": [],
   "source": []
  }
 ],
 "metadata": {
  "kernelspec": {
   "display_name": "Python 3 (ipykernel)",
   "language": "python",
   "name": "python3"
  },
  "language_info": {
   "codemirror_mode": {
    "name": "ipython",
    "version": 3
   },
   "file_extension": ".py",
   "mimetype": "text/x-python",
   "name": "python",
   "nbconvert_exporter": "python",
   "pygments_lexer": "ipython3",
   "version": "3.12.7"
  }
 },
 "nbformat": 4,
 "nbformat_minor": 5
}
